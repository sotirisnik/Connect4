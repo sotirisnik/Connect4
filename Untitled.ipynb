{
 "cells": [
  {
   "cell_type": "code",
   "execution_count": 12,
   "metadata": {
    "collapsed": false
   },
   "outputs": [],
   "source": [
    "import tensorflow as tf\n",
    "import numpy as np\n",
    "import tkinter"
   ]
  },
  {
   "cell_type": "code",
   "execution_count": 69,
   "metadata": {
    "collapsed": true
   },
   "outputs": [],
   "source": [
    "import time"
   ]
  },
  {
   "cell_type": "code",
   "execution_count": 13,
   "metadata": {
    "collapsed": false
   },
   "outputs": [],
   "source": [
    "\n",
    "from PIL import ImageTk, Image\n",
    "\n",
    "root = tkinter.Tk()\n",
    "#Setting it up\n",
    "keno = ImageTk.PhotoImage(Image.open(\"keno.png\"))\n",
    "red = ImageTk.PhotoImage(Image.open(\"kokkino.png\"))\n",
    "blue = ImageTk.PhotoImage(Image.open(\"ble.png\"))"
   ]
  },
  {
   "cell_type": "code",
   "execution_count": 14,
   "metadata": {
    "collapsed": false
   },
   "outputs": [],
   "source": [
    "def same(a):\n",
    "    \n",
    "    for i in range( len(a) ):\n",
    "        if a[0] != a[i]:\n",
    "            return ( False )\n",
    "        \n",
    "    return ( True )\n",
    "\n",
    "#reverse state for 2nd agent, so that it can make predictions according to what the 1st agent has learned so far\n",
    "def rev( a ):\n",
    "    b = a.copy()\n",
    "    b[ a == 1 ] = 2\n",
    "    b[ a == 2 ] = 1\n",
    "    return ( b.copy() )"
   ]
  },
  {
   "cell_type": "code",
   "execution_count": 15,
   "metadata": {
    "collapsed": false
   },
   "outputs": [],
   "source": [
    "class Environment:\n",
    "    \n",
    "    def __init__(self):\n",
    "        self.R, self.C = 6,7\n",
    "        self.board = np.zeros( (self.R,self.C), dtype='uint8' )\n",
    "    \n",
    "    def reset(self):\n",
    "        for i in range( self.R ):\n",
    "            for j in range( self.C ):\n",
    "                self.board[i][j] = 0\n",
    "    \n",
    "    def step(self,who,action):\n",
    "        \n",
    "        placed = False\n",
    "        for j in range( self.R-1, -1, -1 ):\n",
    "            if self.board[j][action] == 0:\n",
    "                self.board[j][action] = who\n",
    "                placed = True\n",
    "                break\n",
    "        \n",
    "        return ( placed )\n",
    "    \n",
    "    def getState(self):\n",
    "        return self.board.copy()\n",
    "    \n",
    "    def isFinal(self):\n",
    "        \n",
    "        #check horizontal\n",
    "        for i in range( self.R ):\n",
    "            for j in range( self.C ):\n",
    "                if self.board[i][j] != 0:\n",
    "                    x, y = i, j\n",
    "                    a = []\n",
    "                    for k in range(4):\n",
    "                        a.append( self.board[x][y] )\n",
    "                        y += 1\n",
    "                        if y >= self.C:\n",
    "                            break\n",
    "                    if same( np.array(a) ) and len(a) == 4:\n",
    "                        return ( a[0] )\n",
    "                \n",
    "        #check vertical\n",
    "        for i in range( self.R ):\n",
    "            for j in range( self.C ):\n",
    "                if self.board[i][j] != 0:\n",
    "                    x, y = i, j\n",
    "                    a = []\n",
    "                    for k in range(4):\n",
    "                        a.append( self.board[x][y] )\n",
    "                        x += 1\n",
    "                        if x >= self.R:\n",
    "                            break\n",
    "                    if same( np.array(a) ) and len(a) == 4:\n",
    "                        return ( a[0] )\n",
    "                    \n",
    "        #check diagonal\n",
    "        for i in range( self.R-3 ):\n",
    "            for j in range( self.C-3 ):\n",
    "                if self.board[i][j] != 0:\n",
    "                    x, y = i, j\n",
    "                    a = []\n",
    "                    for k in range(4):\n",
    "                        a.append( self.board[x][y] )\n",
    "                        x += 1\n",
    "                        y += 1\n",
    "                    if same( np.array(a) ):\n",
    "                        return ( a[0] )\n",
    "                    \n",
    "        #check diagonal\n",
    "        for i in range( self.R-3 ):\n",
    "            for j in range( self.C-3 ):\n",
    "                if self.board[i][j] != 0:\n",
    "                    x, y = i, j\n",
    "                    a = []\n",
    "                    for k in range(4):\n",
    "                        a.append( self.board[x][y] )\n",
    "                        x -= 1\n",
    "                        y -= 1\n",
    "                    if same( np.array(a) ):\n",
    "                        return ( a[0] )\n",
    "                    \n",
    "        for i in range( self.R ):\n",
    "            for j in range( self.C ):\n",
    "                if self.board[i][j] == 0:\n",
    "                    return ( False )\n",
    "                    \n",
    "        return ( True )"
   ]
  },
  {
   "cell_type": "code",
   "execution_count": 16,
   "metadata": {
    "collapsed": true
   },
   "outputs": [],
   "source": [
    "env = Environment()"
   ]
  },
  {
   "cell_type": "code",
   "execution_count": 17,
   "metadata": {
    "collapsed": false
   },
   "outputs": [
    {
     "data": {
      "text/plain": [
       "array([[0, 0, 0, 0, 0, 0, 0],\n",
       "       [0, 0, 0, 0, 0, 0, 0],\n",
       "       [0, 0, 0, 0, 0, 0, 0],\n",
       "       [0, 0, 0, 0, 0, 0, 0],\n",
       "       [0, 0, 0, 0, 0, 0, 0],\n",
       "       [0, 0, 0, 0, 0, 0, 0]], dtype=uint8)"
      ]
     },
     "execution_count": 17,
     "metadata": {},
     "output_type": "execute_result"
    }
   ],
   "source": [
    "env.board"
   ]
  },
  {
   "cell_type": "code",
   "execution_count": 18,
   "metadata": {
    "collapsed": false
   },
   "outputs": [
    {
     "name": "stdout",
     "output_type": "stream",
     "text": [
      "1 1\n",
      "2 2\n",
      "3 3\n",
      "4 4\n",
      "[0, 0, 0, 0]\n"
     ]
    }
   ],
   "source": [
    "env.board[1][1]\n",
    "x, y = 1,1#, j\n",
    "a = []\n",
    "for k in range(4):\n",
    "\n",
    "    print(x,y)\n",
    "    a.append( env.board[x][y] )\n",
    "    x += 1\n",
    "    y += 1\n",
    "    \n",
    "print(a)\n"
   ]
  },
  {
   "cell_type": "markdown",
   "metadata": {},
   "source": [
    "## DQN"
   ]
  },
  {
   "cell_type": "code",
   "execution_count": 19,
   "metadata": {
    "collapsed": false
   },
   "outputs": [],
   "source": [
    "#begin DQN\n",
    "class HiddenLayer:\n",
    "    def __init__(self, M1, M2, f=tf.nn.tanh, use_bias=True):\n",
    "        self.W = tf.Variable(tf.random_normal(shape=(M1, M2)))\n",
    "        self.params = [self.W]\n",
    "        self.use_bias = use_bias\n",
    "        if use_bias:\n",
    "            self.b = tf.Variable(np.zeros(M2).astype(np.float32))\n",
    "            self.params.append(self.b)\n",
    "        self.f = f\n",
    "\n",
    "    def forward(self, X):\n",
    "        if self.use_bias:\n",
    "            a = tf.matmul(X, self.W) + self.b\n",
    "        else:\n",
    "            a = tf.matmul(X, self.W)\n",
    "        return self.f(a)\n",
    "\n",
    "\n",
    "class DQN:\n",
    "    def __init__(self, D, K, hidden_layer_sizes, gamma, max_experiences=100000, min_experiences=2000, batch_sz=32):\n",
    "        self.K = K\n",
    "\n",
    "        # create the graph\n",
    "        self.layers = []\n",
    "        M1 = D\n",
    "        for M2 in hidden_layer_sizes:\n",
    "            layer = HiddenLayer(M1, M2)\n",
    "            self.layers.append(layer)\n",
    "            M1 = M2\n",
    "\n",
    "        # final layer\n",
    "        layer = HiddenLayer(M1, K, lambda x: x)\n",
    "        self.layers.append(layer)\n",
    "\n",
    "        # collect params for copy\n",
    "        self.params = []\n",
    "        for layer in self.layers:\n",
    "            self.params += layer.params\n",
    "\n",
    "        # inputs and targets\n",
    "        self.X = tf.placeholder(tf.float32, shape=(None, D), name='X')\n",
    "        self.G = tf.placeholder(tf.float32, shape=(None,), name='G')\n",
    "        self.actions = tf.placeholder(tf.int32, shape=(None,), name='actions')\n",
    "\n",
    "        # calculate output and cost\n",
    "        Z = self.X\n",
    "        #Z = tf.contrib.layers.flatten(self.X)\n",
    "        for layer in self.layers:\n",
    "            Z = layer.forward(Z)\n",
    "        Y_hat = Z\n",
    "        self.predict_op = Y_hat\n",
    "\n",
    "        selected_action_values = tf.reduce_sum(\n",
    "          Y_hat * tf.one_hot(self.actions, K),\n",
    "          reduction_indices=[1]\n",
    "        )\n",
    "\n",
    "        cost = tf.reduce_sum(tf.square(self.G - selected_action_values))\n",
    "        self.train_op = tf.train.AdamOptimizer(1e-2).minimize(cost)\n",
    "        # self.train_op = tf.train.AdagradOptimizer(1e-2).minimize(cost)\n",
    "        # self.train_op = tf.train.MomentumOptimizer(1e-3, momentum=0.9).minimize(cost)\n",
    "        # self.train_op = tf.train.GradientDescentOptimizer(1e-4).minimize(cost)\n",
    "\n",
    "        # create replay memory\n",
    "        self.experience = {'s': [], 'a': [], 'r': [], 's2': [], 'done': []}\n",
    "        self.max_experiences = max_experiences\n",
    "        self.min_experiences = min_experiences\n",
    "        self.batch_sz = batch_sz\n",
    "        self.gamma = gamma\n",
    "\n",
    "    def set_session(self, session):\n",
    "        self.session = session\n",
    "\n",
    "    def copy_from(self, other):\n",
    "        # collect all the ops\n",
    "        ops = []\n",
    "        my_params = self.params\n",
    "        other_params = other.params\n",
    "        for p, q in zip(my_params, other_params):\n",
    "            actual = self.session.run(q)\n",
    "            op = p.assign(actual)\n",
    "            ops.append(op)\n",
    "        # now run them all\n",
    "        self.session.run(ops)\n",
    "\n",
    "    def predict(self, X):\n",
    "        X = np.atleast_2d(X)\n",
    "        return self.session.run(self.predict_op, feed_dict={self.X: X})\n",
    "\n",
    "    def train(self, target_network):\n",
    "        # sample a random batch from buffer, do an iteration of GD\n",
    "        if len(self.experience['s']) < self.min_experiences:\n",
    "            # don't do anything if we don't have enough experience\n",
    "            return\n",
    "\n",
    "        # randomly select a batch\n",
    "        idx = np.random.choice(len(self.experience['s']), size=self.batch_sz, replace=False)\n",
    "        # print(\"idx:\", idx)\n",
    "        states = [self.experience['s'][i] for i in idx]\n",
    "        actions = [self.experience['a'][i] for i in idx]\n",
    "        rewards = [self.experience['r'][i] for i in idx]\n",
    "        next_states = [self.experience['s2'][i] for i in idx]\n",
    "        dones = [self.experience['done'][i] for i in idx]\n",
    "        next_Q = np.max(target_network.predict(next_states), axis=1)\n",
    "        targets = [r + self.gamma*next_q if not done else r for r, next_q, done in zip(rewards, next_Q, dones)]\n",
    "\n",
    "        # call optimizer\n",
    "        self.session.run(\n",
    "          self.train_op,\n",
    "          feed_dict={\n",
    "            self.X: states,\n",
    "            self.G: targets,\n",
    "            self.actions: actions\n",
    "          }\n",
    "        )\n",
    "\n",
    "    def add_experience(self, s, a, r, s2, done):\n",
    "        if len(self.experience['s']) >= self.max_experiences:\n",
    "            self.experience['s'].pop(0)\n",
    "            self.experience['a'].pop(0)\n",
    "            self.experience['r'].pop(0)\n",
    "            self.experience['s2'].pop(0)\n",
    "            self.experience['done'].pop(0)\n",
    "            self.experience['s'].append(s)\n",
    "            self.experience['a'].append(a)\n",
    "            self.experience['r'].append(r)\n",
    "            self.experience['s2'].append(s2)\n",
    "            self.experience['done'].append(done)\n",
    "\n",
    "    def sample_action(self, x, eps):\n",
    "        if np.random.random() < eps:\n",
    "            return np.random.choice(self.K)\n",
    "        else:\n",
    "            X = np.atleast_2d(x)\n",
    "        return np.argmax(self.predict(X)[0])\n",
    "\n",
    "#end dqn\n"
   ]
  },
  {
   "cell_type": "code",
   "execution_count": 24,
   "metadata": {
    "collapsed": false
   },
   "outputs": [],
   "source": [
    "def play_one(env, model, tmodel, eps, gamma, copy_period, learn=True):\n",
    "  \n",
    "\n",
    "    global iters\n",
    "\n",
    "    #env.board[1][0] = env.board[1][1] = env.board[2][0] = env.board[3][0] = env.board[4][0] = 1\n",
    "    env.reset()\n",
    "\n",
    "    observation = env.board.copy().flatten()\n",
    "    prev_observation = observation.copy().flatten()\n",
    "        \n",
    "    done = False\n",
    "\n",
    "    totalreward = 0\n",
    "    \n",
    "    while not done:\n",
    "\n",
    "        reward = 0\n",
    "        \n",
    "        while True:\n",
    "            #until a valid action is given\n",
    "            #action = int( input('Player 1 input') )\n",
    "            \n",
    "            action = model.sample_action(observation, eps)\n",
    "            \n",
    "            placed = env.step(who=1, action=action)\n",
    "            if placed == True:\n",
    "                break\n",
    "\n",
    "        #move has been done, environment has moved to next state, so update\n",
    "        prev_observation = observation.copy().flatten()\n",
    "        observation = env.board.copy().flatten()\n",
    "                \n",
    "        if env.isFinal() > 0:\n",
    "            done = True\n",
    "            reward = +1\n",
    "            # update the model\n",
    "            \n",
    "            model.add_experience(prev_observation, action, reward, observation, done)\n",
    "            model.train(tmodel)\n",
    "            iters += 1\n",
    "            if iters % copy_period == 0:\n",
    "                tmodel.copy_from(model)\n",
    "            break\n",
    "\n",
    "        #print(env.board)\n",
    "\n",
    "        while True:\n",
    "            #until a valid action is given\n",
    "            #action = int( input('Player 2 input') )\n",
    "            \n",
    "            #agent 2 has to take an action based on the \"reversed state\"\n",
    "            #reversed state: every 1 becomes 2 and vice versa\n",
    "            action = model.sample_action( rev(observation), eps)\n",
    "            \n",
    "            placed = env.step(who=2, action=action)\n",
    "            if placed == True:\n",
    "                break\n",
    "\n",
    "        #move has been done, environment has moved to next state, so update\n",
    "        prev_observation = observation.copy().flatten()\n",
    "        observation = env.board.copy().flatten()\n",
    "        \n",
    "        if env.isFinal() > 0:\n",
    "            done = True\n",
    "            reward = -1\n",
    "            # update the model\n",
    "            \n",
    "            if learn:\n",
    "                model.add_experience(prev_observation, action, reward, observation, done)\n",
    "                model.train(tmodel)\n",
    "                iters += 1\n",
    "                if iters % copy_period == 0:\n",
    "                    tmodel.copy_from(model)\n",
    "            break\n",
    "\n",
    "        #print(env.board)\n",
    "        \n",
    "        observation = env.board.copy().flatten()\n",
    "        \n",
    "        # update the model\n",
    "        if learn:\n",
    "            model.add_experience(prev_observation, action, reward, observation, done)\n",
    "            model.train(tmodel)\n",
    "            iters += 1\n",
    "            if iters % copy_period == 0:\n",
    "                tmodel.copy_from(model)\n",
    "\n",
    "        \n",
    "    return reward"
   ]
  },
  {
   "cell_type": "code",
   "execution_count": null,
   "metadata": {
    "collapsed": false
   },
   "outputs": [
    {
     "name": "stdout",
     "output_type": "stream",
     "text": [
      "episode: 0 total reward: -1 eps: 0.1 avg reward (last 100): -1.0\n",
      "episode: 1 total reward: 1 eps: 0.1 avg reward (last 100): 0.0\n",
      "episode: 2 total reward: 1 eps: 0.1 avg reward (last 100): 0.333333333333\n",
      "episode: 3 total reward: -1 eps: 0.1 avg reward (last 100): 0.0\n",
      "episode: 4 total reward: -1 eps: 0.1 avg reward (last 100): -0.2\n",
      "episode: 5 total reward: -1 eps: 0.1 avg reward (last 100): -0.333333333333\n",
      "episode: 6 total reward: -1 eps: 0.1 avg reward (last 100): -0.428571428571\n",
      "episode: 7 total reward: 1 eps: 0.1 avg reward (last 100): -0.25\n",
      "episode: 8 total reward: -1 eps: 0.1 avg reward (last 100): -0.333333333333\n",
      "episode: 9 total reward: 1 eps: 0.1 avg reward (last 100): -0.2\n",
      "episode: 10 total reward: 1 eps: 0.1 avg reward (last 100): -0.0909090909091\n",
      "episode: 11 total reward: -1 eps: 0.1 avg reward (last 100): -0.166666666667\n",
      "episode: 12 total reward: -1 eps: 0.1 avg reward (last 100): -0.230769230769\n",
      "episode: 13 total reward: 1 eps: 0.1 avg reward (last 100): -0.142857142857\n",
      "episode: 14 total reward: 1 eps: 0.1 avg reward (last 100): -0.0666666666667\n",
      "episode: 15 total reward: -1 eps: 0.1 avg reward (last 100): -0.125\n",
      "episode: 16 total reward: -1 eps: 0.1 avg reward (last 100): -0.176470588235\n",
      "episode: 17 total reward: -1 eps: 0.1 avg reward (last 100): -0.222222222222\n",
      "episode: 18 total reward: -1 eps: 0.1 avg reward (last 100): -0.263157894737\n",
      "episode: 19 total reward: 1 eps: 0.1 avg reward (last 100): -0.2\n",
      "episode: 20 total reward: -1 eps: 0.1 avg reward (last 100): -0.238095238095\n",
      "episode: 21 total reward: 1 eps: 0.1 avg reward (last 100): -0.181818181818\n",
      "episode: 22 total reward: -1 eps: 0.1 avg reward (last 100): -0.217391304348\n",
      "episode: 23 total reward: 1 eps: 0.1 avg reward (last 100): -0.166666666667\n",
      "episode: 24 total reward: 1 eps: 0.1 avg reward (last 100): -0.12\n",
      "episode: 25 total reward: -1 eps: 0.1 avg reward (last 100): -0.153846153846\n",
      "episode: 26 total reward: 1 eps: 0.1 avg reward (last 100): -0.111111111111\n",
      "episode: 27 total reward: -1 eps: 0.1 avg reward (last 100): -0.142857142857\n",
      "episode: 28 total reward: 1 eps: 0.1 avg reward (last 100): -0.103448275862\n",
      "episode: 29 total reward: -1 eps: 0.1 avg reward (last 100): -0.133333333333\n",
      "episode: 30 total reward: 1 eps: 0.1 avg reward (last 100): -0.0967741935484\n",
      "episode: 31 total reward: -1 eps: 0.1 avg reward (last 100): -0.125\n",
      "episode: 32 total reward: -1 eps: 0.1 avg reward (last 100): -0.151515151515\n",
      "episode: 33 total reward: 1 eps: 0.1 avg reward (last 100): -0.117647058824\n",
      "episode: 34 total reward: -1 eps: 0.1 avg reward (last 100): -0.142857142857\n",
      "episode: 35 total reward: -1 eps: 0.1 avg reward (last 100): -0.166666666667\n",
      "episode: 36 total reward: 1 eps: 0.1 avg reward (last 100): -0.135135135135\n",
      "episode: 37 total reward: 1 eps: 0.1 avg reward (last 100): -0.105263157895\n",
      "episode: 38 total reward: 1 eps: 0.1 avg reward (last 100): -0.0769230769231\n",
      "episode: 39 total reward: -1 eps: 0.1 avg reward (last 100): -0.1\n",
      "episode: 40 total reward: -1 eps: 0.1 avg reward (last 100): -0.121951219512\n",
      "episode: 41 total reward: -1 eps: 0.1 avg reward (last 100): -0.142857142857\n",
      "episode: 42 total reward: -1 eps: 0.1 avg reward (last 100): -0.162790697674\n",
      "episode: 43 total reward: 1 eps: 0.1 avg reward (last 100): -0.136363636364\n",
      "episode: 44 total reward: 1 eps: 0.1 avg reward (last 100): -0.111111111111\n",
      "episode: 45 total reward: 1 eps: 0.1 avg reward (last 100): -0.0869565217391\n",
      "episode: 46 total reward: 1 eps: 0.1 avg reward (last 100): -0.063829787234\n",
      "episode: 47 total reward: 1 eps: 0.1 avg reward (last 100): -0.0416666666667\n",
      "episode: 48 total reward: 1 eps: 0.1 avg reward (last 100): -0.0204081632653\n",
      "episode: 49 total reward: -1 eps: 0.1 avg reward (last 100): -0.04\n",
      "episode: 50 total reward: -1 eps: 0.1 avg reward (last 100): -0.0588235294118\n",
      "episode: 51 total reward: -1 eps: 0.1 avg reward (last 100): -0.0769230769231\n",
      "episode: 52 total reward: 1 eps: 0.1 avg reward (last 100): -0.0566037735849\n",
      "episode: 53 total reward: 1 eps: 0.1 avg reward (last 100): -0.037037037037\n",
      "episode: 54 total reward: 1 eps: 0.1 avg reward (last 100): -0.0181818181818\n",
      "episode: 55 total reward: -1 eps: 0.1 avg reward (last 100): -0.0357142857143\n",
      "episode: 56 total reward: 1 eps: 0.1 avg reward (last 100): -0.0175438596491\n",
      "episode: 57 total reward: -1 eps: 0.1 avg reward (last 100): -0.0344827586207\n",
      "episode: 58 total reward: -1 eps: 0.1 avg reward (last 100): -0.0508474576271\n",
      "episode: 59 total reward: -1 eps: 0.1 avg reward (last 100): -0.0666666666667\n",
      "episode: 60 total reward: 1 eps: 0.1 avg reward (last 100): -0.0491803278689\n",
      "episode: 61 total reward: -1 eps: 0.1 avg reward (last 100): -0.0645161290323\n",
      "episode: 62 total reward: -1 eps: 0.1 avg reward (last 100): -0.0793650793651\n",
      "episode: 63 total reward: 1 eps: 0.1 avg reward (last 100): -0.0625\n",
      "episode: 64 total reward: -1 eps: 0.1 avg reward (last 100): -0.0769230769231\n",
      "episode: 65 total reward: -1 eps: 0.1 avg reward (last 100): -0.0909090909091\n",
      "episode: 66 total reward: 1 eps: 0.1 avg reward (last 100): -0.0746268656716\n",
      "episode: 67 total reward: -1 eps: 0.1 avg reward (last 100): -0.0882352941176\n",
      "episode: 68 total reward: -1 eps: 0.1 avg reward (last 100): -0.101449275362\n",
      "episode: 69 total reward: -1 eps: 0.1 avg reward (last 100): -0.114285714286\n",
      "episode: 70 total reward: -1 eps: 0.1 avg reward (last 100): -0.12676056338\n",
      "episode: 71 total reward: -1 eps: 0.1 avg reward (last 100): -0.138888888889\n",
      "episode: 72 total reward: 1 eps: 0.1 avg reward (last 100): -0.123287671233\n",
      "episode: 73 total reward: -1 eps: 0.1 avg reward (last 100): -0.135135135135\n",
      "episode: 74 total reward: -1 eps: 0.1 avg reward (last 100): -0.146666666667\n",
      "episode: 75 total reward: 1 eps: 0.1 avg reward (last 100): -0.131578947368\n",
      "episode: 76 total reward: 1 eps: 0.1 avg reward (last 100): -0.116883116883\n",
      "episode: 77 total reward: 1 eps: 0.1 avg reward (last 100): -0.102564102564\n",
      "episode: 78 total reward: 1 eps: 0.1 avg reward (last 100): -0.0886075949367\n",
      "episode: 79 total reward: 1 eps: 0.1 avg reward (last 100): -0.075\n",
      "episode: 80 total reward: -1 eps: 0.1 avg reward (last 100): -0.0864197530864\n",
      "episode: 81 total reward: -1 eps: 0.1 avg reward (last 100): -0.0975609756098\n",
      "episode: 82 total reward: -1 eps: 0.1 avg reward (last 100): -0.10843373494\n",
      "episode: 83 total reward: 1 eps: 0.1 avg reward (last 100): -0.0952380952381\n",
      "episode: 84 total reward: -1 eps: 0.1 avg reward (last 100): -0.105882352941\n",
      "episode: 85 total reward: -1 eps: 0.1 avg reward (last 100): -0.116279069767\n",
      "episode: 86 total reward: -1 eps: 0.1 avg reward (last 100): -0.126436781609\n",
      "episode: 87 total reward: 1 eps: 0.1 avg reward (last 100): -0.113636363636\n",
      "episode: 88 total reward: 1 eps: 0.1 avg reward (last 100): -0.101123595506\n",
      "episode: 89 total reward: 1 eps: 0.1 avg reward (last 100): -0.0888888888889\n",
      "episode: 90 total reward: -1 eps: 0.1 avg reward (last 100): -0.0989010989011\n",
      "episode: 91 total reward: -1 eps: 0.1 avg reward (last 100): -0.108695652174\n",
      "episode: 92 total reward: 1 eps: 0.1 avg reward (last 100): -0.0967741935484\n",
      "episode: 93 total reward: 1 eps: 0.1 avg reward (last 100): -0.0851063829787\n",
      "episode: 94 total reward: 1 eps: 0.1 avg reward (last 100): -0.0736842105263\n",
      "episode: 95 total reward: 1 eps: 0.1 avg reward (last 100): -0.0625\n",
      "episode: 96 total reward: -1 eps: 0.1 avg reward (last 100): -0.0721649484536\n",
      "episode: 97 total reward: 1 eps: 0.1 avg reward (last 100): -0.0612244897959\n",
      "episode: 98 total reward: 1 eps: 0.1 avg reward (last 100): -0.0505050505051\n",
      "episode: 99 total reward: 1 eps: 0.1 avg reward (last 100): -0.04\n",
      "episode: 100 total reward: 1 eps: 0.1 avg reward (last 100): -0.029702970297\n",
      "episode: 101 total reward: -1 eps: 0.1 avg reward (last 100): -0.029702970297\n",
      "episode: 102 total reward: 1 eps: 0.1 avg reward (last 100): -0.029702970297\n",
      "episode: 103 total reward: -1 eps: 0.1 avg reward (last 100): -0.049504950495\n",
      "episode: 104 total reward: -1 eps: 0.1 avg reward (last 100): -0.049504950495\n",
      "episode: 105 total reward: -1 eps: 0.1 avg reward (last 100): -0.049504950495\n",
      "episode: 106 total reward: -1 eps: 0.1 avg reward (last 100): -0.049504950495\n",
      "episode: 107 total reward: 1 eps: 0.1 avg reward (last 100): -0.029702970297\n",
      "episode: 108 total reward: 1 eps: 0.1 avg reward (last 100): -0.029702970297\n",
      "episode: 109 total reward: -1 eps: 0.1 avg reward (last 100): -0.029702970297\n",
      "episode: 110 total reward: -1 eps: 0.1 avg reward (last 100): -0.049504950495\n",
      "episode: 111 total reward: 1 eps: 0.1 avg reward (last 100): -0.049504950495\n",
      "episode: 112 total reward: 1 eps: 0.1 avg reward (last 100): -0.029702970297\n",
      "episode: 113 total reward: -1 eps: 0.1 avg reward (last 100): -0.029702970297\n",
      "episode: 114 total reward: -1 eps: 0.1 avg reward (last 100): -0.049504950495\n",
      "episode: 115 total reward: 1 eps: 0.1 avg reward (last 100): -0.049504950495\n",
      "episode: 116 total reward: 1 eps: 0.1 avg reward (last 100): -0.029702970297\n",
      "episode: 117 total reward: 1 eps: 0.1 avg reward (last 100): -0.00990099009901\n",
      "episode: 118 total reward: 1 eps: 0.1 avg reward (last 100): 0.00990099009901\n",
      "episode: 119 total reward: -1 eps: 0.1 avg reward (last 100): 0.00990099009901\n",
      "episode: 120 total reward: 1 eps: 0.1 avg reward (last 100): 0.00990099009901\n",
      "episode: 121 total reward: -1 eps: 0.1 avg reward (last 100): 0.00990099009901\n",
      "episode: 122 total reward: -1 eps: 0.1 avg reward (last 100): -0.00990099009901\n",
      "episode: 123 total reward: -1 eps: 0.1 avg reward (last 100): -0.00990099009901\n",
      "episode: 124 total reward: -1 eps: 0.1 avg reward (last 100): -0.029702970297\n",
      "episode: 125 total reward: 1 eps: 0.1 avg reward (last 100): -0.029702970297\n",
      "episode: 126 total reward: -1 eps: 0.1 avg reward (last 100): -0.029702970297\n",
      "episode: 127 total reward: 1 eps: 0.1 avg reward (last 100): -0.029702970297\n",
      "episode: 128 total reward: -1 eps: 0.1 avg reward (last 100): -0.029702970297\n",
      "episode: 129 total reward: 1 eps: 0.1 avg reward (last 100): -0.029702970297\n",
      "episode: 130 total reward: 1 eps: 0.1 avg reward (last 100): -0.00990099009901\n",
      "episode: 131 total reward: -1 eps: 0.1 avg reward (last 100): -0.029702970297\n",
      "episode: 132 total reward: 1 eps: 0.1 avg reward (last 100): -0.00990099009901\n",
      "episode: 133 total reward: 1 eps: 0.1 avg reward (last 100): 0.00990099009901\n",
      "episode: 134 total reward: -1 eps: 0.1 avg reward (last 100): -0.00990099009901\n",
      "episode: 135 total reward: -1 eps: 0.1 avg reward (last 100): -0.00990099009901\n",
      "episode: 136 total reward: -1 eps: 0.1 avg reward (last 100): -0.00990099009901\n",
      "episode: 137 total reward: -1 eps: 0.1 avg reward (last 100): -0.029702970297\n",
      "episode: 138 total reward: -1 eps: 0.1 avg reward (last 100): -0.049504950495\n",
      "episode: 139 total reward: -1 eps: 0.1 avg reward (last 100): -0.0693069306931\n",
      "episode: 140 total reward: 1 eps: 0.1 avg reward (last 100): -0.049504950495\n",
      "episode: 141 total reward: -1 eps: 0.1 avg reward (last 100): -0.049504950495\n",
      "episode: 142 total reward: 1 eps: 0.1 avg reward (last 100): -0.029702970297\n",
      "episode: 143 total reward: 1 eps: 0.1 avg reward (last 100): -0.00990099009901\n",
      "episode: 144 total reward: -1 eps: 0.1 avg reward (last 100): -0.029702970297\n",
      "episode: 145 total reward: -1 eps: 0.1 avg reward (last 100): -0.049504950495\n",
      "episode: 146 total reward: -1 eps: 0.1 avg reward (last 100): -0.0693069306931\n",
      "episode: 147 total reward: -1 eps: 0.1 avg reward (last 100): -0.0891089108911\n",
      "episode: 148 total reward: -1 eps: 0.1 avg reward (last 100): -0.108910891089\n",
      "episode: 149 total reward: -1 eps: 0.1 avg reward (last 100): -0.128712871287\n",
      "episode: 150 total reward: -1 eps: 0.1 avg reward (last 100): -0.128712871287\n",
      "episode: 151 total reward: -1 eps: 0.1 avg reward (last 100): -0.128712871287\n",
      "episode: 152 total reward: 1 eps: 0.1 avg reward (last 100): -0.108910891089\n",
      "episode: 153 total reward: 1 eps: 0.1 avg reward (last 100): -0.108910891089\n",
      "episode: 154 total reward: 1 eps: 0.1 avg reward (last 100): -0.108910891089\n",
      "episode: 155 total reward: 1 eps: 0.1 avg reward (last 100): -0.108910891089\n",
      "episode: 156 total reward: 1 eps: 0.1 avg reward (last 100): -0.0891089108911\n",
      "episode: 157 total reward: 1 eps: 0.1 avg reward (last 100): -0.0891089108911\n",
      "episode: 158 total reward: -1 eps: 0.1 avg reward (last 100): -0.0891089108911\n",
      "episode: 159 total reward: 1 eps: 0.1 avg reward (last 100): -0.0693069306931\n",
      "episode: 160 total reward: 1 eps: 0.1 avg reward (last 100): -0.049504950495\n",
      "episode: 161 total reward: -1 eps: 0.1 avg reward (last 100): -0.0693069306931\n",
      "episode: 162 total reward: -1 eps: 0.1 avg reward (last 100): -0.0693069306931\n",
      "episode: 163 total reward: 1 eps: 0.1 avg reward (last 100): -0.049504950495\n",
      "episode: 164 total reward: -1 eps: 0.1 avg reward (last 100): -0.0693069306931\n",
      "episode: 165 total reward: -1 eps: 0.1 avg reward (last 100): -0.0693069306931\n",
      "episode: 166 total reward: 1 eps: 0.1 avg reward (last 100): -0.049504950495\n",
      "episode: 167 total reward: -1 eps: 0.1 avg reward (last 100): -0.0693069306931\n",
      "episode: 168 total reward: 1 eps: 0.1 avg reward (last 100): -0.049504950495\n",
      "episode: 169 total reward: -1 eps: 0.1 avg reward (last 100): -0.049504950495\n",
      "episode: 170 total reward: -1 eps: 0.1 avg reward (last 100): -0.049504950495\n",
      "episode: 171 total reward: -1 eps: 0.1 avg reward (last 100): -0.049504950495\n",
      "episode: 172 total reward: -1 eps: 0.1 avg reward (last 100): -0.049504950495\n",
      "episode: 173 total reward: 1 eps: 0.1 avg reward (last 100): -0.049504950495\n",
      "episode: 174 total reward: -1 eps: 0.1 avg reward (last 100): -0.049504950495\n",
      "episode: 175 total reward: 1 eps: 0.1 avg reward (last 100): -0.029702970297\n",
      "episode: 176 total reward: 1 eps: 0.1 avg reward (last 100): -0.029702970297\n",
      "episode: 177 total reward: 1 eps: 0.1 avg reward (last 100): -0.029702970297\n",
      "episode: 178 total reward: 1 eps: 0.1 avg reward (last 100): -0.029702970297\n",
      "episode: 179 total reward: 1 eps: 0.1 avg reward (last 100): -0.029702970297\n",
      "episode: 180 total reward: 1 eps: 0.1 avg reward (last 100): -0.029702970297\n",
      "episode: 181 total reward: 1 eps: 0.1 avg reward (last 100): -0.00990099009901\n",
      "episode: 182 total reward: 1 eps: 0.1 avg reward (last 100): 0.00990099009901\n",
      "episode: 183 total reward: -1 eps: 0.1 avg reward (last 100): 0.00990099009901\n",
      "episode: 184 total reward: 1 eps: 0.1 avg reward (last 100): 0.00990099009901\n",
      "episode: 185 total reward: 1 eps: 0.1 avg reward (last 100): 0.029702970297\n",
      "episode: 186 total reward: 1 eps: 0.1 avg reward (last 100): 0.049504950495\n",
      "episode: 187 total reward: 1 eps: 0.1 avg reward (last 100): 0.0693069306931\n",
      "episode: 188 total reward: 1 eps: 0.1 avg reward (last 100): 0.0693069306931\n",
      "episode: 189 total reward: 1 eps: 0.1 avg reward (last 100): 0.0693069306931\n",
      "episode: 190 total reward: -1 eps: 0.1 avg reward (last 100): 0.049504950495\n",
      "episode: 191 total reward: 1 eps: 0.1 avg reward (last 100): 0.0693069306931\n",
      "episode: 192 total reward: -1 eps: 0.1 avg reward (last 100): 0.0693069306931\n",
      "episode: 193 total reward: -1 eps: 0.1 avg reward (last 100): 0.049504950495\n",
      "episode: 194 total reward: -1 eps: 0.1 avg reward (last 100): 0.029702970297\n",
      "episode: 195 total reward: -1 eps: 0.1 avg reward (last 100): 0.00990099009901\n",
      "episode: 196 total reward: 1 eps: 0.1 avg reward (last 100): 0.00990099009901\n",
      "episode: 197 total reward: 1 eps: 0.1 avg reward (last 100): 0.029702970297\n",
      "episode: 198 total reward: 1 eps: 0.1 avg reward (last 100): 0.029702970297\n",
      "episode: 199 total reward: 1 eps: 0.1 avg reward (last 100): 0.029702970297\n",
      "episode: 200 total reward: 1 eps: 0.1 avg reward (last 100): 0.029702970297\n",
      "episode: 201 total reward: 1 eps: 0.1 avg reward (last 100): 0.029702970297\n",
      "episode: 202 total reward: 1 eps: 0.1 avg reward (last 100): 0.049504950495\n",
      "episode: 203 total reward: -1 eps: 0.1 avg reward (last 100): 0.029702970297\n",
      "episode: 204 total reward: -1 eps: 0.1 avg reward (last 100): 0.029702970297\n",
      "episode: 205 total reward: 1 eps: 0.1 avg reward (last 100): 0.049504950495\n",
      "episode: 206 total reward: -1 eps: 0.1 avg reward (last 100): 0.049504950495\n",
      "episode: 207 total reward: -1 eps: 0.1 avg reward (last 100): 0.049504950495\n",
      "episode: 208 total reward: 1 eps: 0.1 avg reward (last 100): 0.049504950495\n",
      "episode: 209 total reward: 1 eps: 0.1 avg reward (last 100): 0.049504950495\n",
      "episode: 210 total reward: 1 eps: 0.1 avg reward (last 100): 0.0693069306931\n",
      "episode: 211 total reward: 1 eps: 0.1 avg reward (last 100): 0.0891089108911\n",
      "episode: 212 total reward: -1 eps: 0.1 avg reward (last 100): 0.0693069306931\n",
      "episode: 213 total reward: 1 eps: 0.1 avg reward (last 100): 0.0693069306931\n"
     ]
    }
   ],
   "source": [
    "gamma = 0.99\n",
    "copy_period = 50\n",
    "\n",
    "D = 6*7#len(env.observation_space.sample())\n",
    "K = 7#env.action_space.n\n",
    "sizes = [512,256,128,64,64]\n",
    "model = DQN(D, K, sizes, gamma)\n",
    "tmodel = DQN(D, K, sizes, gamma)\n",
    "init = tf.global_variables_initializer()\n",
    "session = tf.InteractiveSession()\n",
    "session.run(init)\n",
    "model.set_session(session)\n",
    "tmodel.set_session(session)\n",
    "\n",
    "\n",
    "iters = 1\n",
    "\n",
    "N = 50000\n",
    "totalrewards = np.empty(N)\n",
    "costs = np.empty(N)\n",
    "avg = []\n",
    "\n",
    "begin = time.time()\n",
    "\n",
    "for n in range(N):\n",
    "    eps = 0.1#1.0/np.sqrt(n+1)\n",
    "    totalreward = play_one(env, model, tmodel, eps, gamma, copy_period)\n",
    "    totalrewards[n] = totalreward\n",
    "    #if n % 100 == 0:\n",
    "    mean_reward = totalrewards[max(0, n-100):(n+1)].mean()\n",
    "    avg.append( mean_reward )\n",
    "    print(\"episode:\", n, \"total reward:\", totalreward, \"eps:\", eps, \"avg reward (last 100):\", mean_reward )\n",
    "\n",
    "    #print( env.board)\n",
    "    \n",
    "print(\"avg reward for last 100 episodes:\", totalrewards[-100:].mean())\n",
    "print(\"total steps:\", totalrewards.sum())\n",
    "\n",
    "end = time.time()\n",
    "\n",
    "print( end - begin )\n"
   ]
  },
  {
   "cell_type": "code",
   "execution_count": 43,
   "metadata": {
    "collapsed": false
   },
   "outputs": [
    {
     "data": {
      "image/png": "[encoded data removed]",
      "text/plain": [
       "<matplotlib.figure.Figure at 0x7f22eb189908>"
      ]
     },
     "metadata": {},
     "output_type": "display_data"
    },
    {
     "ename": "NameError",
     "evalue": "name 'plot_running_avg' is not defined",
     "output_type": "error",
     "traceback": [
      "\u001b[0;31m---------------------------------------------------------------------------\u001b[0m",
      "\u001b[0;31mNameError\u001b[0m                                 Traceback (most recent call last)",
      "\u001b[0;32m<ipython-input-43-50e30a1682e1>\u001b[0m in \u001b[0;36m<module>\u001b[0;34m()\u001b[0m\n\u001b[1;32m      5\u001b[0m \u001b[0mplt\u001b[0m\u001b[0;34m.\u001b[0m\u001b[0mshow\u001b[0m\u001b[0;34m(\u001b[0m\u001b[0;34m)\u001b[0m\u001b[0;34m\u001b[0m\u001b[0m\n\u001b[1;32m      6\u001b[0m \u001b[0;34m\u001b[0m\u001b[0m\n\u001b[0;32m----> 7\u001b[0;31m \u001b[0mplot_running_avg\u001b[0m\u001b[0;34m(\u001b[0m\u001b[0mtotalrewards\u001b[0m\u001b[0;34m)\u001b[0m\u001b[0;34m\u001b[0m\u001b[0m\n\u001b[0m",
      "\u001b[0;31mNameError\u001b[0m: name 'plot_running_avg' is not defined"
     ]
    }
   ],
   "source": [
    "import matplotlib.pyplot as plt\n",
    "%matplotlib inline\n",
    "plt.plot(avg)\n",
    "plt.title(\"Rewards\")\n",
    "plt.show()\n",
    "\n",
    "plot_running_avg(totalrewards)"
   ]
  },
  {
   "cell_type": "code",
   "execution_count": 41,
   "metadata": {
    "collapsed": false
   },
   "outputs": [
    {
     "data": {
      "text/plain": [
       "[<matplotlib.lines.Line2D at 0x7f22eb70a9b0>]"
      ]
     },
     "execution_count": 41,
     "metadata": {},
     "output_type": "execute_result"
    },
    {
     "data": {
      "image/png": "[encoded data removed]",
      "text/plain": [
       "<matplotlib.figure.Figure at 0x7f22eb1b9cf8>"
      ]
     },
     "metadata": {},
     "output_type": "display_data"
    }
   ],
   "source": [
    "avg = [ totalrewards[max(0, n-100):(n+1)].mean() for i in range(1000) ]\n",
    "\n",
    "plt.plot(avg)"
   ]
  },
  {
   "cell_type": "code",
   "execution_count": 44,
   "metadata": {
    "collapsed": false
   },
   "outputs": [
    {
     "data": {
      "text/plain": [
       "array([[1, 0, 2, 0, 2, 0, 2],\n",
       "       [1, 0, 1, 0, 1, 0, 1],\n",
       "       [2, 0, 1, 0, 2, 0, 2],\n",
       "       [2, 0, 1, 1, 2, 0, 1],\n",
       "       [2, 1, 2, 1, 1, 1, 1],\n",
       "       [1, 2, 2, 1, 2, 2, 2]], dtype=uint8)"
      ]
     },
     "execution_count": 44,
     "metadata": {},
     "output_type": "execute_result"
    }
   ],
   "source": [
    "env.board"
   ]
  },
  {
   "cell_type": "code",
   "execution_count": 46,
   "metadata": {
    "collapsed": false
   },
   "outputs": [
    {
     "data": {
      "text/plain": [
       "[<matplotlib.lines.Line2D at 0x7f22dbd17978>]"
      ]
     },
     "execution_count": 46,
     "metadata": {},
     "output_type": "execute_result"
    },
    {
     "data": {
      "image/png": "[encoded data removed]",
      "text/plain": [
       "<matplotlib.figure.Figure at 0x7f22e0081898>"
      ]
     },
     "metadata": {},
     "output_type": "display_data"
    }
   ],
   "source": [
    "plt.plot(avg)"
   ]
  },
  {
   "cell_type": "code",
   "execution_count": null,
   "metadata": {
    "collapsed": true
   },
   "outputs": [],
   "source": []
  },
  {
   "cell_type": "code",
   "execution_count": 11,
   "metadata": {
    "collapsed": false
   },
   "outputs": [
    {
     "name": "stdout",
     "output_type": "stream",
     "text": [
      "[[1 2 0 2]\n",
      " [2 2 1 1]]\n",
      "[[2 1 0 1]\n",
      " [1 1 2 2]]\n"
     ]
    }
   ],
   "source": [
    "import numpy as np\n",
    "a = np.array( [ [1,2,0,2], [2,2,1,1] ] )\n",
    "b = a.copy()\n",
    "\n",
    "print(b)\n",
    "\n",
    "\n",
    "print( rev(a) )"
   ]
  },
  {
   "cell_type": "markdown",
   "metadata": {},
   "source": [
    "# print( env.board)"
   ]
  },
  {
   "cell_type": "code",
   "execution_count": null,
   "metadata": {
    "collapsed": false
   },
   "outputs": [],
   "source": [
    "for j in range( env.C-3):\n",
    "    print(a[j:j+4])"
   ]
  },
  {
   "cell_type": "code",
   "execution_count": null,
   "metadata": {
    "collapsed": false
   },
   "outputs": [],
   "source": [
    "for j in range( env.C-3):\n",
    "    print(a[j:j+4] == [a[j]]*4)"
   ]
  },
  {
   "cell_type": "code",
   "execution_count": null,
   "metadata": {
    "collapsed": false
   },
   "outputs": [],
   "source": [
    "env = Environment()"
   ]
  },
  {
   "cell_type": "code",
   "execution_count": null,
   "metadata": {
    "collapsed": false
   },
   "outputs": [],
   "source": [
    "env.reset()\n",
    "env.board"
   ]
  },
  {
   "cell_type": "code",
   "execution_count": null,
   "metadata": {
    "collapsed": true
   },
   "outputs": [],
   "source": [
    "\n"
   ]
  },
  {
   "cell_type": "code",
   "execution_count": null,
   "metadata": {
    "collapsed": false
   },
   "outputs": [],
   "source": []
  },
  {
   "cell_type": "code",
   "execution_count": 118,
   "metadata": {
    "collapsed": false
   },
   "outputs": [
    {
     "data": {
      "text/plain": [
       "6"
      ]
     },
     "execution_count": 118,
     "metadata": {},
     "output_type": "execute_result"
    }
   ],
   "source": [
    "env.R"
   ]
  },
  {
   "cell_type": "code",
   "execution_count": 119,
   "metadata": {
    "collapsed": true
   },
   "outputs": [],
   "source": [
    "env.reset()"
   ]
  },
  {
   "cell_type": "code",
   "execution_count": 120,
   "metadata": {
    "collapsed": false
   },
   "outputs": [
    {
     "data": {
      "text/plain": [
       "array([[0, 0, 0, 0, 0, 0, 0],\n",
       "       [0, 0, 0, 0, 0, 0, 0],\n",
       "       [0, 0, 0, 0, 0, 0, 0],\n",
       "       [0, 0, 0, 0, 0, 0, 0],\n",
       "       [0, 0, 0, 0, 0, 0, 0],\n",
       "       [0, 0, 0, 0, 0, 0, 0]], dtype=uint8)"
      ]
     },
     "execution_count": 120,
     "metadata": {},
     "output_type": "execute_result"
    }
   ],
   "source": [
    "env.board"
   ]
  },
  {
   "cell_type": "code",
   "execution_count": null,
   "metadata": {
    "collapsed": true
   },
   "outputs": [],
   "source": []
  },
  {
   "cell_type": "code",
   "execution_count": null,
   "metadata": {
    "collapsed": true
   },
   "outputs": [],
   "source": [
    "PLay game"
   ]
  },
  {
   "cell_type": "code",
   "execution_count": null,
   "metadata": {
    "collapsed": true
   },
   "outputs": [],
   "source": [
    "play_one(env, model, tmodel, eps, gamma, copy_period)"
   ]
  },
  {
   "cell_type": "code",
   "execution_count": null,
   "metadata": {
    "collapsed": true
   },
   "outputs": [],
   "source": []
  },
  {
   "cell_type": "code",
   "execution_count": null,
   "metadata": {
    "collapsed": true
   },
   "outputs": [],
   "source": []
  },
  {
   "cell_type": "code",
   "execution_count": null,
   "metadata": {
    "collapsed": true
   },
   "outputs": [],
   "source": []
  },
  {
   "cell_type": "code",
   "execution_count": null,
   "metadata": {
    "collapsed": true
   },
   "outputs": [],
   "source": []
  },
  {
   "cell_type": "code",
   "execution_count": 67,
   "metadata": {
    "collapsed": false
   },
   "outputs": [
    {
     "name": "stdout",
     "output_type": "stream",
     "text": [
      "2\n",
      "1\n",
      "3\n",
      "CONGRATULATIONS! YOU WON! :)\n"
     ]
    }
   ],
   "source": [
    "import copy\n",
    "root = tkinter.Toplevel()#to Tk(  )\n",
    "\n",
    "img = ImageTk.PhotoImage(Image.open(\"keno.png\"))\n",
    "\n",
    "keno = ImageTk.PhotoImage(Image.open(\"keno.png\"))\n",
    "red = ImageTk.PhotoImage(Image.open(\"kokkino.png\"))\n",
    "blue = ImageTk.PhotoImage(Image.open(\"ble.png\"))\n",
    "\n",
    "env.reset()\n",
    "\n",
    "observation = env.board.copy().flatten()\n",
    "prev_observation = observation.copy()\n",
    "\n",
    "def update_board():\n",
    "    \n",
    "    r = 0\n",
    "    c = 0\n",
    "\n",
    "    tkinter.Button(root, text='R%s/C%s'%(r,c),\n",
    "        borderwidth=1, command = lambda: helloCallBack( 0 ) ).grid(row=0,column=0)\n",
    "    tkinter.Button(root, text='R%s/C%s'%(r,c),\n",
    "        borderwidth=1, command = lambda: helloCallBack( 1 ) ).grid(row=0,column=1)\n",
    "    tkinter.Button(root, text='R%s/C%s'%(r,c),\n",
    "        borderwidth=1, command = lambda: helloCallBack( 2 ) ).grid(row=0,column=2)\n",
    "    tkinter.Button(root, text='R%s/C%s'%(r,c),\n",
    "        borderwidth=1, command = lambda: helloCallBack( 3 ) ).grid(row=0,column=3)\n",
    "    tkinter.Button(root, text='R%s/C%s'%(r,c),\n",
    "        borderwidth=1, command = lambda: helloCallBack( 4 ) ).grid(row=0,column=4)\n",
    "    tkinter.Button(root, text='R%s/C%s'%(r,c),\n",
    "        borderwidth=1, command = lambda: helloCallBack( 5 ) ).grid(row=0,column=5)\n",
    "    tkinter.Button(root, text='R%s/C%s'%(r,c),\n",
    "        borderwidth=1, command = lambda: helloCallBack( 6 ) ).grid(row=0,column=6)\n",
    "    \n",
    "    #update the board\n",
    "    for r in range(6):\n",
    "        for c in range(7):\n",
    "            if env.board[r][c] == 0:\n",
    "                cur = keno\n",
    "            elif env.board[r][c] == 1:\n",
    "                cur = red\n",
    "            else:\n",
    "                cur = blue\n",
    "                \n",
    "            tkinter.Label(root, text='R%s/C%s'%(r,c),\n",
    "                borderwidth=1, image=cur ).grid(row=r+1,column=c)\n",
    "\n",
    "def helloCallBack(value):\n",
    "    done = False\n",
    "    \n",
    "    global observation, prev_observation\n",
    "    \n",
    "    if env.isFinal() > 0:\n",
    "        return\n",
    "    \n",
    "    prev_observation = observation.copy().flatten()\n",
    "    \n",
    "    #do action\n",
    "    placed = env.step(who=1, action=value)\n",
    "    if placed == False:\n",
    "        return        \n",
    "\n",
    "    #move has been done, environment has moved to next state, so update\n",
    "    prev_observation = observation.copy().flatten()\n",
    "    observation = env.board.copy().flatten()\n",
    "\n",
    "    if env.isFinal() > 0:\n",
    "        done = True\n",
    "        print( \"CONGRATULATIONS! YOU WON! :)\")\n",
    "        update_board()\n",
    "        return\n",
    "\n",
    "    while True:\n",
    "        #until a valid action is given\n",
    "        #action = int( input('Player 2 input') )\n",
    "\n",
    "        #agent 2 has to take an action based on the \"reversed state\"\n",
    "        #reversed state: every 1 becomes 2 and vice versa\n",
    "        action = model.sample_action( rev(observation), eps)\n",
    "\n",
    "        placed = env.step(who=2, action=action)\n",
    "        if placed == True:\n",
    "            break\n",
    "\n",
    "    #move has been done, environment has moved to next state, so update\n",
    "    prev_observation = observation.copy().flatten()\n",
    "    observation = env.board.copy().flatten()\n",
    "    \n",
    "    #end of do actions\n",
    "\n",
    "    if env.isFinal() > 0:\n",
    "        done = True\n",
    "        print(\"Sorry :(, You lost!\")\n",
    "        update_board()\n",
    "        return\n",
    "        \n",
    "    #end of logic\n",
    "    \n",
    "    #update the board\n",
    "    update_board()    \n",
    "    print(value)\n",
    "    #tkMessageBox.showinfo( \"Hello Python\", \"Hello World\")\n",
    "    \n",
    "#B = Tkinter.Button(top, text =\"Hello\", command = helloCallBack)\n",
    "\n",
    "update_board()\n",
    "\n",
    "#root\n",
    "root.mainloop(  )"
   ]
  },
  {
   "cell_type": "code",
   "execution_count": 49,
   "metadata": {
    "collapsed": false
   },
   "outputs": [],
   "source": [
    "env.reset()"
   ]
  },
  {
   "cell_type": "code",
   "execution_count": 64,
   "metadata": {
    "collapsed": false
   },
   "outputs": [
    {
     "data": {
      "text/plain": [
       "'/home/sotirisnik/connect4'"
      ]
     },
     "execution_count": 64,
     "metadata": {},
     "output_type": "execute_result"
    }
   ],
   "source": []
  },
  {
   "cell_type": "markdown",
   "metadata": {},
   "source": [
    "### Save Session"
   ]
  },
  {
   "cell_type": "code",
   "execution_count": 65,
   "metadata": {
    "collapsed": false
   },
   "outputs": [
    {
     "name": "stdout",
     "output_type": "stream",
     "text": [
      "Model saved in path: /home/sotirisnik/connect4/connect_4_model.ckpt\n"
     ]
    }
   ],
   "source": [
    "saver = tf.train.Saver()\n",
    "\n",
    "import os\n",
    "save_path = saver.save(session, os.getcwd() + \"/\" + \"connect_4_model.ckpt\")\n",
    "print(\"Model saved in path: %s\" % save_path)\n",
    "\n",
    "\n",
    "#saver.restore(session, \"\")"
   ]
  },
  {
   "cell_type": "code",
   "execution_count": 66,
   "metadata": {
    "collapsed": false
   },
   "outputs": [
    {
     "name": "stdout",
     "output_type": "stream",
     "text": [
      "INFO:tensorflow:Restoring parameters from /home/sotirisnik/connect4/connect_4_model.ckpt\n"
     ]
    }
   ],
   "source": [
    "saver.restore(session, os.getcwd() + \"/\" + \"connect_4_model.ckpt\" )"
   ]
  },
  {
   "cell_type": "code",
   "execution_count": null,
   "metadata": {
    "collapsed": true
   },
   "outputs": [],
   "source": []
  }
 ],
 "metadata": {
  "anaconda-cloud": {},
  "kernelspec": {
   "display_name": "Python [conda env:my_env]",
   "language": "python",
   "name": "conda-env-my_env-py"
  },
  "language_info": {
   "codemirror_mode": {
    "name": "ipython",
    "version": 3
   },
   "file_extension": ".py",
   "mimetype": "text/x-python",
   "name": "python",
   "nbconvert_exporter": "python",
   "pygments_lexer": "ipython3",
   "version": "3.6.2"
  }
 },
 "nbformat": 4,
 "nbformat_minor": 1
}
